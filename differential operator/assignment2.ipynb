{
 "cells": [
  {
   "cell_type": "code",
   "execution_count": 1,
   "metadata": {},
   "outputs": [],
   "source": [
    "import cv2\n",
    "import numpy as np"
   ]
  },
  {
   "cell_type": "code",
   "execution_count": 16,
   "metadata": {},
   "outputs": [],
   "source": [
    "# negative transformation\n",
    "src = cv2.imread('HE test/Fig0316(4)(bottom_left).jpg', cv2.IMREAD_GRAYSCALE)\n",
    "white = np.full((src.shape), 255, dtype=np.uint8)\n",
    "dst_neg = white - src"
   ]
  },
  {
   "cell_type": "code",
   "execution_count": 17,
   "metadata": {},
   "outputs": [],
   "source": [
    "# power-law transformation\n",
    "POWER_GAMMA = 2\n",
    "power_law_weight = src/255.\n",
    "power_law_weight = np.power(power_law_weight, POWER_GAMMA)\n",
    "dst_pow = np.array(np.round(power_law_weight * white), dtype=np.uint8)"
   ]
  },
  {
   "cell_type": "code",
   "execution_count": 18,
   "metadata": {},
   "outputs": [],
   "source": [
    "# histogram equalization\n",
    "MAX_BIN = 256\n",
    "hist = np.zeros((MAX_BIN))\n",
    "hist_c = np.zeros((MAX_BIN))\n",
    "\n",
    "for y in range(src.shape[0]):\n",
    "    for x in range(src.shape[1]):\n",
    "        hist[src[y][x]] += 1\n",
    "\n",
    "for i in range(1, MAX_BIN):\n",
    "    hist_c[i] = hist_c[i-1] + hist[i]\n",
    "    \n",
    "hist_c /= (src.shape[0] * src.shape[1])\n",
    "\n",
    "dst_hist = np.zeros((src.shape), dtype=np.uint8)\n",
    "for y in range(src.shape[0]):\n",
    "    for x in range(src.shape[1]):\n",
    "        dst_hist[y][x] = hist_c[src[y][x]] * 255"
   ]
  },
  {
   "cell_type": "code",
   "execution_count": 19,
   "metadata": {},
   "outputs": [],
   "source": [
    "# image display\n",
    "cv2.imshow(\"src\", src)\n",
    "cv2.imshow(\"dst_neg\", dst_neg)\n",
    "cv2.imshow(\"dst_pow\", dst_pow)\n",
    "cv2.imshow(\"dst_hist\", dst_hist)\n",
    "cv2.waitKey(0)\n",
    "cv2.destroyAllWindows()"
   ]
  },
  {
   "cell_type": "code",
   "execution_count": null,
   "metadata": {},
   "outputs": [],
   "source": []
  }
 ],
 "metadata": {
  "kernelspec": {
   "display_name": "Python 3 (ipykernel)",
   "language": "python",
   "name": "python3"
  },
  "language_info": {
   "codemirror_mode": {
    "name": "ipython",
    "version": 3
   },
   "file_extension": ".py",
   "mimetype": "text/x-python",
   "name": "python",
   "nbconvert_exporter": "python",
   "pygments_lexer": "ipython3",
   "version": "3.9.7"
  }
 },
 "nbformat": 4,
 "nbformat_minor": 2
}
