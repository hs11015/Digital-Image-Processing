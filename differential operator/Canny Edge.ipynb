{
 "cells": [
  {
   "cell_type": "code",
   "execution_count": 2,
   "id": "21abe422",
   "metadata": {},
   "outputs": [],
   "source": [
    "import cv2\n",
    "import numpy as np\n",
    "from math import acos, pi, sqrt, cos, e, atan"
   ]
  },
  {
   "cell_type": "code",
   "execution_count": null,
   "id": "62f8668a",
   "metadata": {},
   "outputs": [],
   "source": []
  },
  {
   "cell_type": "code",
   "execution_count": 6,
   "id": "dbc1ce8e",
   "metadata": {},
   "outputs": [
    {
     "name": "stdout",
     "output_type": "stream",
     "text": [
      "Minimal Value : 180\n",
      "Mazimal Value : 180\n"
     ]
    }
   ],
   "source": [
    "gray_img = cv2.imread('./test image/Fig0503 (original_pattern).jpg', cv2.IMREAD_GRAYSCALE)\n",
    "\n",
    "threshold1 = int(input(\"Minimal Value : \"))\n",
    "threshold2 = int(input(\"Mazimal Value : \"))\n",
    "edge_img = cv2.Canny(gray_img, threshold1, threshold2)\n",
    "cv2.imshow(\"src\", gray_img)\n",
    "cv2.imshow('Canny Edge', edge_img)\n",
    "cv2.waitKey(0)\n",
    "cv2.destroyAllWindows()\n"
   ]
  },
  {
   "cell_type": "code",
   "execution_count": null,
   "id": "f59e553a",
   "metadata": {},
   "outputs": [],
   "source": []
  },
  {
   "cell_type": "code",
   "execution_count": null,
   "id": "ce48a5bf",
   "metadata": {},
   "outputs": [],
   "source": []
  },
  {
   "cell_type": "code",
   "execution_count": null,
   "id": "e0ab4bab",
   "metadata": {},
   "outputs": [],
   "source": []
  }
 ],
 "metadata": {
  "kernelspec": {
   "display_name": "Python 3 (ipykernel)",
   "language": "python",
   "name": "python3"
  },
  "language_info": {
   "codemirror_mode": {
    "name": "ipython",
    "version": 3
   },
   "file_extension": ".py",
   "mimetype": "text/x-python",
   "name": "python",
   "nbconvert_exporter": "python",
   "pygments_lexer": "ipython3",
   "version": "3.9.7"
  }
 },
 "nbformat": 4,
 "nbformat_minor": 5
}
