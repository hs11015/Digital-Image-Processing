{
 "cells": [
  {
   "cell_type": "code",
   "execution_count": 3,
   "id": "9fddf7af",
   "metadata": {},
   "outputs": [],
   "source": [
    "import cv2\n",
    "import numpy as np\n",
    "from math import acos, pi, sqrt, cos, e, atan"
   ]
  },
  {
   "cell_type": "code",
   "execution_count": null,
   "id": "be8619e0",
   "metadata": {},
   "outputs": [],
   "source": []
  },
  {
   "cell_type": "code",
   "execution_count": 4,
   "id": "1629757f",
   "metadata": {},
   "outputs": [],
   "source": [
    "def get_gaussian_filter(filter_size, sigma):\n",
    "    center = filter_size//2\n",
    "    filter = np.zeros(shape=(filter_size, filter_size))\n",
    "    for y in range(filter_size):\n",
    "        for x in range(filter_size):\n",
    "            filter[y][x] = (pow(x-int(filter_size/2),2)+pow(y-int(filter_size/2),2)-(2*(sigma**2)))/(pow(sigma,4))*(e ** ((-pow(x-int(filter_size/2),2)-pow(y-int(filter_size/2),2))/ (2*pow(sigma,2))))\n",
    "            if x == center and y == center:\n",
    "                filter[y][x] *= -1\n",
    "    \n",
    "    #filter *= (1/np.sum(filter))\n",
    "    return filter\n",
    "\n",
    "def gaussian_filtering(src, filter_size, sigma):\n",
    "    LoG = np.zeros(shape=(src.shape))\n",
    "    gaussian_filter = get_gaussian_filter(filter_size, sigma)\n",
    "                                    \n",
    "    print(gaussian_filter)\n",
    "    \n",
    "    for y in range(int(filter_size/2), src.shape[0]-int(filter_size/2)):\n",
    "        for x in range(int(filter_size/2), src.shape[1]-int(filter_size/2)):\n",
    "            for j in range(filter_size):\n",
    "                for i in range(filter_size):\n",
    "                    LoG[y][x] += src[y-int(filter_size/2)+j][x-int(filter_size/2)+i] * gaussian_filter[j][i]\n",
    "    LoG = np.array(np.round(LoG), dtype=np.uint8)\n",
    "    \n",
    "    return LoG\n",
    "    "
   ]
  },
  {
   "cell_type": "code",
   "execution_count": null,
   "id": "47251572",
   "metadata": {},
   "outputs": [],
   "source": []
  },
  {
   "cell_type": "code",
   "execution_count": 12,
   "id": "5b8df471",
   "metadata": {},
   "outputs": [
    {
     "name": "stdout",
     "output_type": "stream",
     "text": [
      "size of gaussian filter : 17\n",
      "gaussian filter's sigma value : 5\n",
      "[[ 0.00964763  0.01051853  0.01082682  0.01052302  0.00969103  0.00854629\n",
      "   0.00739183  0.00654076  0.00622804  0.00654076  0.00739183  0.00854629\n",
      "   0.00969103  0.01052302  0.01082682  0.01051853  0.00964763]\n",
      " [ 0.01051853  0.01081793  0.01023028  0.00874129  0.00654076  0.00401262\n",
      "   0.00166299  0.         -0.0006005   0.          0.00166299  0.00401262\n",
      "   0.00654076  0.00874129  0.01023028  0.01081793  0.01051853]\n",
      " [ 0.01082682  0.01023028  0.00833986  0.00519605  0.00113105 -0.00325256\n",
      "  -0.00718926 -0.00992397 -0.01090325 -0.00992397 -0.00718926 -0.00325256\n",
      "   0.00113105  0.00519605  0.00833986  0.01023028  0.01082682]\n",
      " [ 0.01052302  0.00874129  0.00519605  0.         -0.00634222 -0.0129694\n",
      "  -0.01881259 -0.02282959 -0.02426123 -0.02282959 -0.01881259 -0.0129694\n",
      "  -0.00634222  0.          0.00519605  0.00874129  0.01052302]\n",
      " [ 0.00969103  0.00654076  0.00113105 -0.00634222 -0.01518602 -0.02426123\n",
      "  -0.03217536 -0.03758147 -0.03950251 -0.03758147 -0.03217536 -0.02426123\n",
      "  -0.01518602 -0.00634222  0.00113105  0.00654076  0.00969103]\n",
      " [ 0.00854629  0.00401262 -0.00325256 -0.0129694  -0.02426123 -0.03572103\n",
      "  -0.04564625 -0.05239877 -0.05479373 -0.05239877 -0.04564625 -0.03572103\n",
      "  -0.02426123 -0.0129694  -0.00325256  0.00401262  0.00854629]\n",
      " [ 0.00739183  0.00166299 -0.00718926 -0.01881259 -0.03217536 -0.04564625\n",
      "  -0.05726406 -0.06514829 -0.06794136 -0.06514829 -0.05726406 -0.04564625\n",
      "  -0.03217536 -0.01881259 -0.00718926  0.00166299  0.00739183]\n",
      " [ 0.00654076  0.         -0.00992397 -0.02282959 -0.03758147 -0.05239877\n",
      "  -0.06514829 -0.07378863 -0.07684758 -0.07378863 -0.06514829 -0.05239877\n",
      "  -0.03758147 -0.02282959 -0.00992397  0.          0.00654076]\n",
      " [ 0.00622804 -0.0006005  -0.01090325 -0.02426123 -0.03950251 -0.05479373\n",
      "  -0.06794136 -0.07684758  0.08       -0.07684758 -0.06794136 -0.05479373\n",
      "  -0.03950251 -0.02426123 -0.01090325 -0.0006005   0.00622804]\n",
      " [ 0.00654076  0.         -0.00992397 -0.02282959 -0.03758147 -0.05239877\n",
      "  -0.06514829 -0.07378863 -0.07684758 -0.07378863 -0.06514829 -0.05239877\n",
      "  -0.03758147 -0.02282959 -0.00992397  0.          0.00654076]\n",
      " [ 0.00739183  0.00166299 -0.00718926 -0.01881259 -0.03217536 -0.04564625\n",
      "  -0.05726406 -0.06514829 -0.06794136 -0.06514829 -0.05726406 -0.04564625\n",
      "  -0.03217536 -0.01881259 -0.00718926  0.00166299  0.00739183]\n",
      " [ 0.00854629  0.00401262 -0.00325256 -0.0129694  -0.02426123 -0.03572103\n",
      "  -0.04564625 -0.05239877 -0.05479373 -0.05239877 -0.04564625 -0.03572103\n",
      "  -0.02426123 -0.0129694  -0.00325256  0.00401262  0.00854629]\n",
      " [ 0.00969103  0.00654076  0.00113105 -0.00634222 -0.01518602 -0.02426123\n",
      "  -0.03217536 -0.03758147 -0.03950251 -0.03758147 -0.03217536 -0.02426123\n",
      "  -0.01518602 -0.00634222  0.00113105  0.00654076  0.00969103]\n",
      " [ 0.01052302  0.00874129  0.00519605  0.         -0.00634222 -0.0129694\n",
      "  -0.01881259 -0.02282959 -0.02426123 -0.02282959 -0.01881259 -0.0129694\n",
      "  -0.00634222  0.          0.00519605  0.00874129  0.01052302]\n",
      " [ 0.01082682  0.01023028  0.00833986  0.00519605  0.00113105 -0.00325256\n",
      "  -0.00718926 -0.00992397 -0.01090325 -0.00992397 -0.00718926 -0.00325256\n",
      "   0.00113105  0.00519605  0.00833986  0.01023028  0.01082682]\n",
      " [ 0.01051853  0.01081793  0.01023028  0.00874129  0.00654076  0.00401262\n",
      "   0.00166299  0.         -0.0006005   0.          0.00166299  0.00401262\n",
      "   0.00654076  0.00874129  0.01023028  0.01081793  0.01051853]\n",
      " [ 0.00964763  0.01051853  0.01082682  0.01052302  0.00969103  0.00854629\n",
      "   0.00739183  0.00654076  0.00622804  0.00654076  0.00739183  0.00854629\n",
      "   0.00969103  0.01052302  0.01082682  0.01051853  0.00964763]]\n"
     ]
    }
   ],
   "source": [
    "src = cv2.imread('./test image/Fig0503 (original_pattern).jpg', cv2.IMREAD_GRAYSCALE)\n",
    "filter_size = int(input(\"size of gaussian filter : \"))\n",
    "sigma = float(input(\"gaussian filter's sigma value : \"))\n",
    "LoG = gaussian_filtering(src,filter_size,sigma)\n",
    "cv2.imshow(\"src\", src)\n",
    "cv2.imshow(\"LoG\", LoG)\n",
    "cv2.waitKey(0)\n",
    "cv2.destroyAllWindows()"
   ]
  },
  {
   "cell_type": "code",
   "execution_count": null,
   "id": "0725695d",
   "metadata": {},
   "outputs": [],
   "source": []
  },
  {
   "cell_type": "code",
   "execution_count": null,
   "id": "df8cb765",
   "metadata": {},
   "outputs": [],
   "source": []
  },
  {
   "cell_type": "code",
   "execution_count": null,
   "id": "e787f7e0",
   "metadata": {},
   "outputs": [],
   "source": []
  },
  {
   "cell_type": "code",
   "execution_count": null,
   "id": "d1871121",
   "metadata": {},
   "outputs": [],
   "source": []
  },
  {
   "cell_type": "code",
   "execution_count": null,
   "id": "43966ba2",
   "metadata": {},
   "outputs": [],
   "source": []
  }
 ],
 "metadata": {
  "kernelspec": {
   "display_name": "Python 3 (ipykernel)",
   "language": "python",
   "name": "python3"
  },
  "language_info": {
   "codemirror_mode": {
    "name": "ipython",
    "version": 3
   },
   "file_extension": ".py",
   "mimetype": "text/x-python",
   "name": "python",
   "nbconvert_exporter": "python",
   "pygments_lexer": "ipython3",
   "version": "3.9.7"
  }
 },
 "nbformat": 4,
 "nbformat_minor": 5
}
