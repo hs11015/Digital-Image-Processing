{
 "cells": [
  {
   "cell_type": "code",
   "execution_count": 1,
   "metadata": {},
   "outputs": [],
   "source": [
    "import cv2\n",
    "import numpy as np\n",
    "from math import pi, exp, pow"
   ]
  },
  {
   "cell_type": "code",
   "execution_count": 2,
   "metadata": {},
   "outputs": [],
   "source": [
    "def avg_filtering(src, filter_size=3):\n",
    "    dst = src.copy()\n",
    "    for y in range(int(filter_size/2), src.shape[0]-int(filter_size/2)):\n",
    "        for x in range(int(filter_size/2), src.shape[1]-int(filter_size/2)):\n",
    "            temp = np.zeros((src[y][x].shape))\n",
    "            for j in range(-int(filter_size/2), int(filter_size/2)+1):\n",
    "                for i in range(-int(filter_size/2), int(filter_size/2)+1):\n",
    "                     temp += src[y+j][x+i]\n",
    "            dst[y][x] = np.round(temp/(filter_size*filter_size))\n",
    "    return dst"
   ]
  },
  {
   "cell_type": "code",
   "execution_count": 3,
   "metadata": {},
   "outputs": [
    {
     "ename": "AttributeError",
     "evalue": "'NoneType' object has no attribute 'copy'",
     "output_type": "error",
     "traceback": [
      "\u001b[1;31m---------------------------------------------------------------------------\u001b[0m",
      "\u001b[1;31mAttributeError\u001b[0m                            Traceback (most recent call last)",
      "\u001b[1;32m~\\AppData\\Local\\Temp/ipykernel_16556/2399504577.py\u001b[0m in \u001b[0;36m<module>\u001b[1;34m\u001b[0m\n\u001b[0;32m      1\u001b[0m \u001b[0msrc\u001b[0m \u001b[1;33m=\u001b[0m \u001b[0mcv2\u001b[0m\u001b[1;33m.\u001b[0m\u001b[0mimread\u001b[0m\u001b[1;33m(\u001b[0m\u001b[1;34m'Homework #3 images/Color noisy image/Lena_noise.png'\u001b[0m\u001b[1;33m)\u001b[0m\u001b[1;33m\u001b[0m\u001b[1;33m\u001b[0m\u001b[0m\n\u001b[1;32m----> 2\u001b[1;33m \u001b[0mdst\u001b[0m \u001b[1;33m=\u001b[0m \u001b[0mavg_filtering\u001b[0m\u001b[1;33m(\u001b[0m\u001b[0msrc\u001b[0m\u001b[1;33m)\u001b[0m\u001b[1;33m\u001b[0m\u001b[1;33m\u001b[0m\u001b[0m\n\u001b[0m\u001b[0;32m      3\u001b[0m \u001b[0mcv2\u001b[0m\u001b[1;33m.\u001b[0m\u001b[0mimshow\u001b[0m\u001b[1;33m(\u001b[0m\u001b[1;34m\"src\"\u001b[0m\u001b[1;33m,\u001b[0m \u001b[0msrc\u001b[0m\u001b[1;33m)\u001b[0m\u001b[1;33m\u001b[0m\u001b[1;33m\u001b[0m\u001b[0m\n\u001b[0;32m      4\u001b[0m \u001b[0mcv2\u001b[0m\u001b[1;33m.\u001b[0m\u001b[0mimshow\u001b[0m\u001b[1;33m(\u001b[0m\u001b[1;34m\"dst\"\u001b[0m\u001b[1;33m,\u001b[0m \u001b[0mdst\u001b[0m\u001b[1;33m)\u001b[0m\u001b[1;33m\u001b[0m\u001b[1;33m\u001b[0m\u001b[0m\n\u001b[0;32m      5\u001b[0m \u001b[0mcv2\u001b[0m\u001b[1;33m.\u001b[0m\u001b[0mwaitKey\u001b[0m\u001b[1;33m(\u001b[0m\u001b[1;36m0\u001b[0m\u001b[1;33m)\u001b[0m\u001b[1;33m\u001b[0m\u001b[1;33m\u001b[0m\u001b[0m\n",
      "\u001b[1;32m~\\AppData\\Local\\Temp/ipykernel_16556/4198003605.py\u001b[0m in \u001b[0;36mavg_filtering\u001b[1;34m(src, filter_size)\u001b[0m\n\u001b[0;32m      1\u001b[0m \u001b[1;32mdef\u001b[0m \u001b[0mavg_filtering\u001b[0m\u001b[1;33m(\u001b[0m\u001b[0msrc\u001b[0m\u001b[1;33m,\u001b[0m \u001b[0mfilter_size\u001b[0m\u001b[1;33m=\u001b[0m\u001b[1;36m3\u001b[0m\u001b[1;33m)\u001b[0m\u001b[1;33m:\u001b[0m\u001b[1;33m\u001b[0m\u001b[1;33m\u001b[0m\u001b[0m\n\u001b[1;32m----> 2\u001b[1;33m     \u001b[0mdst\u001b[0m \u001b[1;33m=\u001b[0m \u001b[0msrc\u001b[0m\u001b[1;33m.\u001b[0m\u001b[0mcopy\u001b[0m\u001b[1;33m(\u001b[0m\u001b[1;33m)\u001b[0m\u001b[1;33m\u001b[0m\u001b[1;33m\u001b[0m\u001b[0m\n\u001b[0m\u001b[0;32m      3\u001b[0m     \u001b[1;32mfor\u001b[0m \u001b[0my\u001b[0m \u001b[1;32min\u001b[0m \u001b[0mrange\u001b[0m\u001b[1;33m(\u001b[0m\u001b[0mint\u001b[0m\u001b[1;33m(\u001b[0m\u001b[0mfilter_size\u001b[0m\u001b[1;33m/\u001b[0m\u001b[1;36m2\u001b[0m\u001b[1;33m)\u001b[0m\u001b[1;33m,\u001b[0m \u001b[0msrc\u001b[0m\u001b[1;33m.\u001b[0m\u001b[0mshape\u001b[0m\u001b[1;33m[\u001b[0m\u001b[1;36m0\u001b[0m\u001b[1;33m]\u001b[0m\u001b[1;33m-\u001b[0m\u001b[0mint\u001b[0m\u001b[1;33m(\u001b[0m\u001b[0mfilter_size\u001b[0m\u001b[1;33m/\u001b[0m\u001b[1;36m2\u001b[0m\u001b[1;33m)\u001b[0m\u001b[1;33m)\u001b[0m\u001b[1;33m:\u001b[0m\u001b[1;33m\u001b[0m\u001b[1;33m\u001b[0m\u001b[0m\n\u001b[0;32m      4\u001b[0m         \u001b[1;32mfor\u001b[0m \u001b[0mx\u001b[0m \u001b[1;32min\u001b[0m \u001b[0mrange\u001b[0m\u001b[1;33m(\u001b[0m\u001b[0mint\u001b[0m\u001b[1;33m(\u001b[0m\u001b[0mfilter_size\u001b[0m\u001b[1;33m/\u001b[0m\u001b[1;36m2\u001b[0m\u001b[1;33m)\u001b[0m\u001b[1;33m,\u001b[0m \u001b[0msrc\u001b[0m\u001b[1;33m.\u001b[0m\u001b[0mshape\u001b[0m\u001b[1;33m[\u001b[0m\u001b[1;36m1\u001b[0m\u001b[1;33m]\u001b[0m\u001b[1;33m-\u001b[0m\u001b[0mint\u001b[0m\u001b[1;33m(\u001b[0m\u001b[0mfilter_size\u001b[0m\u001b[1;33m/\u001b[0m\u001b[1;36m2\u001b[0m\u001b[1;33m)\u001b[0m\u001b[1;33m)\u001b[0m\u001b[1;33m:\u001b[0m\u001b[1;33m\u001b[0m\u001b[1;33m\u001b[0m\u001b[0m\n\u001b[0;32m      5\u001b[0m             \u001b[0mtemp\u001b[0m \u001b[1;33m=\u001b[0m \u001b[0mnp\u001b[0m\u001b[1;33m.\u001b[0m\u001b[0mzeros\u001b[0m\u001b[1;33m(\u001b[0m\u001b[1;33m(\u001b[0m\u001b[0msrc\u001b[0m\u001b[1;33m[\u001b[0m\u001b[0my\u001b[0m\u001b[1;33m]\u001b[0m\u001b[1;33m[\u001b[0m\u001b[0mx\u001b[0m\u001b[1;33m]\u001b[0m\u001b[1;33m.\u001b[0m\u001b[0mshape\u001b[0m\u001b[1;33m)\u001b[0m\u001b[1;33m)\u001b[0m\u001b[1;33m\u001b[0m\u001b[1;33m\u001b[0m\u001b[0m\n",
      "\u001b[1;31mAttributeError\u001b[0m: 'NoneType' object has no attribute 'copy'"
     ]
    }
   ],
   "source": [
    "src = cv2.imread('Homework #3 images/Color noisy image/Lena_noise.png')\n",
    "dst = avg_filtering(src)\n",
    "cv2.imshow(\"src\", src)\n",
    "cv2.imshow(\"dst\", dst)\n",
    "cv2.waitKey(0)\n",
    "cv2.destroyAllWindows()"
   ]
  },
  {
   "cell_type": "code",
   "execution_count": 4,
   "metadata": {},
   "outputs": [],
   "source": [
    "def get_gaussian_filter(filter_size, gamma):\n",
    "    filter = np.zeros(shape=(filter_size, filter_size))\n",
    "    for y in range(filter_size):\n",
    "        for x in range(filter_size):\n",
    "            filter[y][x] = 1/(2*pi*pow(gamma,2))*exp(-1*(pow(x-int(filter_size/2),2)+pow(y-int(filter_size/2),2))/pow(gamma,2))\n",
    "    filter *= (1/np.sum(filter))\n",
    "    return filter\n",
    "\n",
    "def gaussian_filtering(src, filter_size=3, gamma=1):\n",
    "    dst = np.zeros(shape=(src.shape))\n",
    "    gaussian_filter = get_gaussian_filter(filter_size, gamma)\n",
    "    for y in range(int(filter_size/2), src.shape[0]-int(filter_size/2)):\n",
    "        for x in range(int(filter_size/2), src.shape[1]-int(filter_size/2)):\n",
    "            for j in range(filter_size):\n",
    "                for i in range(filter_size):\n",
    "                    dst[y][x] += src[y-int(filter_size/2)+j][x-int(filter_size/2)+i] * gaussian_filter[j][i]\n",
    "    dst = np.array(np.round(dst), dtype=np.uint8)\n",
    "    return dst\n",
    "    "
   ]
  },
  {
   "cell_type": "code",
   "execution_count": 5,
   "metadata": {},
   "outputs": [],
   "source": [
    "src = cv2.imread('Homework #3 images/Color noisy image/Gaussian noise.png')\n",
    "dst = gaussian_filtering(src,5,1)\n",
    "cv2.imshow(\"src\", src)\n",
    "cv2.imshow(\"dst\", dst)\n",
    "cv2.waitKey(0)\n",
    "cv2.destroyAllWindows()"
   ]
  },
  {
   "cell_type": "code",
   "execution_count": 21,
   "metadata": {},
   "outputs": [],
   "source": [
    "def median_filtering(src, filter_size=3):\n",
    "    dst = src.copy()\n",
    "    temp = np.zeros(shape=(filter_size*filter_size))\n",
    "    \n",
    "    for y in range(int(filter_size/2), src.shape[0]-int(filter_size/2)):\n",
    "        for x in range(int(filter_size/2), src.shape[1]-int(filter_size/2)):\n",
    "            if np.ndim(src) > 2:\n",
    "                for c in range(src.shape[2]):\n",
    "                    for j in range(filter_size):\n",
    "                        for i in range(filter_size):\n",
    "                            temp[j*filter_size+i] = src[y-int(filter_size/2)+j][x-int(filter_size/2)+i][c]\n",
    "                    temp.sort()\n",
    "                    dst[y][x][c] = temp[int(filter_size*filter_size/2)]\n",
    "            else:\n",
    "                for j in range(filter_size):\n",
    "                    for i in range(filter_size):\n",
    "                        temp[j*filter_size+i] = src[y-int(filter_size/2)+j][x-int(filter_size/2)+i]\n",
    "                temp.sort()\n",
    "                dst[y][x] = temp[int(filter_size*filter_size/2)]\n",
    "    return dst"
   ]
  },
  {
   "cell_type": "code",
   "execution_count": 23,
   "metadata": {},
   "outputs": [],
   "source": [
    "src = cv2.imread('Homework #3 images/Color noisy image/Salt&pepper noise.png', cv2.IMREAD_GRAYSCALE)\n",
    "dst = median_filtering(src,5)\n",
    "cv2.imshow(\"src\", src)\n",
    "cv2.imshow(\"dst\", dst)\n",
    "cv2.waitKey(0)\n",
    "cv2.destroyAllWindows()"
   ]
  },
  {
   "cell_type": "code",
   "execution_count": 14,
   "metadata": {},
   "outputs": [],
   "source": [
    "def high_boost_filtering(src, filter_type=0, alpha = 1):\n",
    "    filter_4 = [\n",
    "        [0, -1, 0],\n",
    "        [-1, alpha+4, -1],\n",
    "        [0, -1, 0]\n",
    "    ]\n",
    "    filter_8 = [\n",
    "        [-1, -1, -1],\n",
    "        [-1, alpha+8, -1],\n",
    "        [-1, -1, -1]\n",
    "    ]\n",
    "    \n",
    "    dst = np.zeros(shape=(src.shape))\n",
    "    \n",
    "    for y in range(1, src.shape[0]-1):\n",
    "        for x in range(1, src.shape[1]-1):\n",
    "            for j in range(3):\n",
    "                for i in range(3):\n",
    "                    if filter_type == 0:\n",
    "                        dst[y][x] += src[y-1+j][x-1+i] * filter_4[j][i]\n",
    "                    else:\n",
    "                        dst[y][x] += src[y-1+j][x-1+i] * filter_8[j][i]\n",
    "    dst = np.array(np.clip(dst, 0, 255), dtype=np.uint8)\n",
    "    return dst"
   ]
  },
  {
   "cell_type": "code",
   "execution_count": 18,
   "metadata": {},
   "outputs": [],
   "source": [
    "src = cv2.imread('Homework #3 images/High-boost filter images/Fig0327(a)(tungsten_original).jpg', cv2.IMREAD_GRAYSCALE)\n",
    "dst = high_boost_filtering(src, filter_type=1, alpha=1.2)\n",
    "cv2.imshow(\"src\", src)\n",
    "cv2.imshow(\"dst\", dst)\n",
    "cv2.waitKey(0)\n",
    "cv2.destroyAllWindows()"
   ]
  },
  {
   "cell_type": "code",
   "execution_count": null,
   "metadata": {},
   "outputs": [],
   "source": []
  }
 ],
 "metadata": {
  "kernelspec": {
   "display_name": "Python 3 (ipykernel)",
   "language": "python",
   "name": "python3"
  },
  "language_info": {
   "codemirror_mode": {
    "name": "ipython",
    "version": 3
   },
   "file_extension": ".py",
   "mimetype": "text/x-python",
   "name": "python",
   "nbconvert_exporter": "python",
   "pygments_lexer": "ipython3",
   "version": "3.9.7"
  }
 },
 "nbformat": 4,
 "nbformat_minor": 2
}
