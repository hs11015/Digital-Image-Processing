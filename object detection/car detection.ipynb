{
 "cells": [
  {
   "cell_type": "code",
   "execution_count": 2,
   "id": "d081ee30",
   "metadata": {},
   "outputs": [],
   "source": [
    "import cv2\n",
    "import numpy as np"
   ]
  },
  {
   "cell_type": "code",
   "execution_count": 8,
   "id": "b6d86068",
   "metadata": {},
   "outputs": [],
   "source": [
    "cap = cv2.VideoCapture('./Project_outdoor video1.mov')\n",
    "bgs = cv2.createBackgroundSubtractorKNN()\n",
    "\n",
    "fps = cap.get(cv2.CAP_PROP_FPS)\n",
    "delay = round(300/fps)\n",
    "\n",
    "if not cap.isOpened():\n",
    "    print(\"Camera open failed!\")\n",
    "    exit()\n",
    "    \n",
    "\n",
    "while True:\n",
    "    # 카메라로부터 프레임을 정상적으로 받아오면 ret에는 True,\n",
    "    # frame에는 해당 프레임이 저장됨\n",
    "    ret, frame = cap.read()\n",
    "    \n",
    "    if not ret:\n",
    "        break\n",
    "    \n",
    "    # 현재 프레임 반전\n",
    "    resize_frame = cv2.resize(frame, (0,0), fx=3, fy=3, interpolation = cv2.INTER_LANCZOS4)\n",
    "    \n",
    "    fgmask = bgs.apply(resize_frame)\n",
    "    \n",
    "    mask = np.zeros((fgmask.shape[0]+2, fgmask.shape[1]+2), np.uint8)\n",
    "    _, fgmask_fill = cv2.threshold(fgmask, 170, 255, cv2.THRESH_BINARY)\n",
    "    \n",
    "    \n",
    "    fgmask_blur = cv2.medianBlur(cv2.medianBlur(fgmask_fill, 5), 5)\n",
    "    final_mask = fgmask_blur.copy()\n",
    "    cv2.floodFill(final_mask, mask, (0,0), 255)\n",
    "    final = cv2.bitwise_xor(~final_mask, fgmask_blur)\n",
    "    final = cv2.dilate(final, np.ones((3,3), np.uint8), iterations=3)\n",
    "    \n",
    "    #채널별로 엣지까지 제거한 결과\n",
    "    final_B = cv2.medianBlur(final, 3)&resize_frame[:,:,0]\n",
    "    final_G = cv2.medianBlur(final, 3)&resize_frame[:,:,1]\n",
    "    final_R = cv2.medianBlur(final, 3)&resize_frame[:,:,2]\n",
    "    \n",
    "    #medianBlur 추가해서 salt noise 제거\n",
    "    #final_end = cv2.medianBlur(cv2.merge((final_B,final_G,final_R)), 3)\n",
    "    final_end = cv2.merge((final_B,final_G,final_R))\n",
    "    \n",
    "    cv2.imshow('car Video', final_end)\n",
    "    \n",
    "    # 일정 시간 기다린 후 다음 프레임 처리.\n",
    "    # 만약 ESC 키를 누르면 while 루프 종료\n",
    "    if cv2.waitKey(delay) == 27:\n",
    "        break\n",
    "\n",
    "# 사용한 자원 해제\n",
    "cap.release()\n",
    "cv2.destroyAllWindows()\n"
   ]
  },
  {
   "cell_type": "code",
   "execution_count": null,
   "id": "1338b145",
   "metadata": {},
   "outputs": [],
   "source": []
  }
 ],
 "metadata": {
  "kernelspec": {
   "display_name": "Python 3 (ipykernel)",
   "language": "python",
   "name": "python3"
  },
  "language_info": {
   "codemirror_mode": {
    "name": "ipython",
    "version": 3
   },
   "file_extension": ".py",
   "mimetype": "text/x-python",
   "name": "python",
   "nbconvert_exporter": "python",
   "pygments_lexer": "ipython3",
   "version": "3.9.13"
  }
 },
 "nbformat": 4,
 "nbformat_minor": 5
}
