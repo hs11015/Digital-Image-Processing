{
 "cells": [
  {
   "cell_type": "code",
   "execution_count": 3,
   "id": "af483fc1",
   "metadata": {},
   "outputs": [],
   "source": [
    "import cv2\n",
    "import numpy as np"
   ]
  },
  {
   "cell_type": "code",
   "execution_count": 4,
   "id": "98260c33",
   "metadata": {},
   "outputs": [],
   "source": [
    "cap = cv2.VideoCapture('./Hand Video2.mov')\n",
    "bgs = cv2.createBackgroundSubtractorKNN(detectShadows=False)\n",
    "    \n",
    "if not cap.isOpened():\n",
    "    print(\"Camera open failed!\")\n",
    "    exit()\n",
    "\n",
    "while True:\n",
    "    # 카메라로부터 프레임을 정상적으로 받아오면 ret에는 True,\n",
    "    # frame에는 해당 프레임이 저장됨\n",
    "    ret, frame = cap.read()\n",
    "    \n",
    "    if not ret:\n",
    "        break\n",
    "    \n",
    "    # 현재 프레임 반전\n",
    "    resize_frame = cv2.resize(frame, (0,0), fx=0.5, fy=0.5, interpolation = cv2.INTER_AREA)\n",
    "    \n",
    "    # skin color 이용해서 추출\n",
    "    hsvmask = cv2.cvtColor(resize_frame, cv2.COLOR_BGR2HSV)\n",
    "    skinmask = cv2.inRange(hsvmask, np.array([0, 48, 80], dtype = \"uint8\"), np.array([20, 255, 255], dtype = \"uint8\"))\n",
    "    \n",
    "    # motion difference 이용해서 추출\n",
    "    fgmask = bgs.apply(resize_frame)\n",
    "    mask = np.zeros((fgmask.shape[0]+2, fgmask.shape[1]+2), np.uint8)\n",
    "    fgmask_fill = fgmask.copy()\n",
    "    cv2.floodFill(fgmask_fill, mask, (0,0), 255)\n",
    "    fgmask_fill_inv = cv2.bitwise_not(fgmask_fill)\n",
    "    \n",
    "    hsv_plus_motion = fgmask | fgmask_fill_inv & skinmask\n",
    "    \n",
    "    #dilation, erosion 전 마지막 salt-pepper noise 제거\n",
    "    hsv_plus_motion = cv2.medianBlur(hsv_plus_motion, 5)\n",
    "    \n",
    "    #dilation으로 채운 후 erosion으로 줄이기\n",
    "    kernel = np.ones((3,3), np.uint8)\n",
    "    mask_final = cv2.erode(cv2.dilate(hsv_plus_motion, kernel, iterations=3), kernel, iterations=3)\n",
    "    \n",
    "    #채널별로 엣지까지 제거한 결과\n",
    "    final_B = (mask_final-cv2.Canny(mask_final, 0, 360))&resize_frame[:,:,0]\n",
    "    final_G = (mask_final-cv2.Canny(mask_final, 0, 360))&resize_frame[:,:,1]\n",
    "    final_R = (mask_final-cv2.Canny(mask_final, 0, 360))&resize_frame[:,:,2]\n",
    "    \n",
    "    #medianBlur 추가해서 salt noise 제거\n",
    "    final = cv2.merge((final_B,final_G,final_R))\n",
    "    \n",
    "    cv2.imshow('Hand Video', final)\n",
    "    \n",
    "    # 일정 시간 기다린 후 다음 프레임 처리.\n",
    "    # 만약 ESC 키를 누르면 while 루프 종료\n",
    "    if cv2.waitKey(10) == 27:\n",
    "        break\n",
    "\n",
    "# 사용한 자원 해제\n",
    "cap.release()\n",
    "cv2.destroyAllWindows()"
   ]
  },
  {
   "cell_type": "code",
   "execution_count": null,
   "id": "dc0f24b0",
   "metadata": {},
   "outputs": [],
   "source": []
  }
 ],
 "metadata": {
  "kernelspec": {
   "display_name": "Python 3 (ipykernel)",
   "language": "python",
   "name": "python3"
  },
  "language_info": {
   "codemirror_mode": {
    "name": "ipython",
    "version": 3
   },
   "file_extension": ".py",
   "mimetype": "text/x-python",
   "name": "python",
   "nbconvert_exporter": "python",
   "pygments_lexer": "ipython3",
   "version": "3.9.13"
  }
 },
 "nbformat": 4,
 "nbformat_minor": 5
}
