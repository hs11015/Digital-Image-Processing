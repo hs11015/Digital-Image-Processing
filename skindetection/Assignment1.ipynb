{
 "cells": [
  {
   "cell_type": "code",
   "execution_count": 1,
   "id": "1b3612f2",
   "metadata": {},
   "outputs": [],
   "source": [
    "import cv2\n",
    "import numpy as np\n",
    "from math import acos, pi, sqrt"
   ]
  },
  {
   "cell_type": "code",
   "execution_count": 2,
   "id": "d8b4a912",
   "metadata": {},
   "outputs": [],
   "source": [
    "# B,G,R\n",
    "def compute_Hue(B, G, R):\n",
    "    angle = 0\n",
    "    if B != G != R:\n",
    "        angle = 0.5*((R - G) + (R - B)) / sqrt((R-G)*(R-G) + (R-B)*(G-B))\n",
    "    return acos(angle) if B <= G else (2*pi - acos(angle))"
   ]
  },
  {
   "cell_type": "code",
   "execution_count": 46,
   "id": "1414aaf6",
   "metadata": {},
   "outputs": [],
   "source": [
    "src = cv2.imread('sample3.jpg', cv2.IMREAD_COLOR)\n",
    "height, width = src.shape[0], src.shape[1]\n",
    "\n",
    "I = np.zeros((height, width))\n",
    "S = np.zeros((height, width))\n",
    "H = np.zeros((height, width))\n",
    "\n",
    "for i in range(height):\n",
    "    for j in range(width):\n",
    "        B, G, R = src[i][j][0]/255., src[i][j][1]/255., src[i][j][2]/255.\n",
    "        \n",
    "        I[i][j] = (B+G+R)/3.\n",
    "        if B+G+R != 0:\n",
    "            S[i][j] = 1 - 3*np.min([B,G,R])/(B+G+R)\n",
    "        H[i][j] = compute_Hue(B, G, R)\n",
    "        \n",
    "dst = np.zeros((height, width, 3), dtype=np.uint8)\n",
    "\n",
    "for i in range(height):\n",
    "    for j in range(width):\n",
    "        #if H[i][j] >= 0.1 and H[i][j] <= 0.6 and S[i][j] > 0.03 and S[i][j] <= 0.5 and I[i][j]>=0.27 and I[i][j]<=0.95:\n",
    "        #    dst[i][j] = src[i][j]\n",
    "        if H[i][j] <= 0.7 and S[i][j] > 0.02 and S[i][j] <= 0.37 and I[i][j]>=0.2:\n",
    "            if H[i][j] > 0.5 and S[i][j] >= 0.125 and I[i][j]<=0.9:\n",
    "                continue\n",
    "            else:\n",
    "                dst[i][j] = src[i][j]\n",
    "\n",
    "            \n",
    "cv2.imshow(\"dst\", dst)\n",
    "cv2.imshow(\"src\", src)\n",
    "cv2.waitKey(0)\n",
    "cv2.destroyAllWindows()"
   ]
  },
  {
   "cell_type": "code",
   "execution_count": 33,
   "id": "600001bb",
   "metadata": {},
   "outputs": [],
   "source": [
    "I = I*255\n",
    "S = S*255\n",
    "H = H*255/(2*pi)\n",
    "I = np.asarray(I, dtype=np.uint8)\n",
    "S = np.asarray(S, dtype=np.uint8)\n",
    "H = np.asarray(H, dtype=np.uint8)\n",
    "\n",
    "cv2.imshow(\"src\", src)\n",
    "cv2.imshow(\"H\", H)\n",
    "cv2.imshow(\"S\", S)\n",
    "cv2.imshow(\"I\", I)\n",
    "cv2.waitKey(0)\n",
    "cv2.destroyAllWindows()"
   ]
  },
  {
   "cell_type": "code",
   "execution_count": null,
   "id": "5fdb4d12",
   "metadata": {},
   "outputs": [],
   "source": []
  }
 ],
 "metadata": {
  "kernelspec": {
   "display_name": "Python 3 (ipykernel)",
   "language": "python",
   "name": "python3"
  },
  "language_info": {
   "codemirror_mode": {
    "name": "ipython",
    "version": 3
   },
   "file_extension": ".py",
   "mimetype": "text/x-python",
   "name": "python",
   "nbconvert_exporter": "python",
   "pygments_lexer": "ipython3",
   "version": "3.9.7"
  }
 },
 "nbformat": 4,
 "nbformat_minor": 5
}
